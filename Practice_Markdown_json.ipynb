{
  "nbformat": 4,
  "nbformat_minor": 0,
  "metadata": {
    "kernelspec": {
      "display_name": "Python 3",
      "language": "python",
      "name": "python3"
    },
    "language_info": {
      "codemirror_mode": {
        "name": "ipython",
        "version": 3
      },
      "file_extension": ".py",
      "mimetype": "text/x-python",
      "name": "python",
      "nbconvert_exporter": "python",
      "pygments_lexer": "ipython3",
      "version": "3.7.6"
    },
    "colab": {
      "name": "Practice-Markdown.json",
      "provenance": [],
      "include_colab_link": true
    }
  },
  "cells": [
    {
      "cell_type": "markdown",
      "metadata": {
        "id": "view-in-github",
        "colab_type": "text"
      },
      "source": [
        "<a href=\"https://colab.research.google.com/github/jmasonlee/cccourse/blob/main/Practice_Markdown_json.ipynb\" target=\"_parent\"><img src=\"https://colab.research.google.com/assets/colab-badge.svg\" alt=\"Open In Colab\"/></a>"
      ]
    },
    {
      "cell_type": "markdown",
      "metadata": {
        "id": "7jDXOa_hy1AV"
      },
      "source": [
        "## Practice Markdown"
      ]
    },
    {
      "cell_type": "markdown",
      "metadata": {
        "id": "XmL5ijIqy1Ac"
      },
      "source": [
        "# This notebook lets you experiment with producing repeatable technical documentation.  Use this notebook to do the following actions:\n",
        "\n",
        "* Create a code cell and print a Python Hello World statement:  `print(\"hello world\")`\n",
        "* Create a Markdown Cell and add a Title using `#` and then a statement using plain text.  You can looks at the source code for this cell to get an idea of how to use Markdown.\n",
        "* Take some ideas from the [Master Markdown Github Guide](https://guides.github.com/features/mastering-markdown/) and implement them here.\n",
        "* Download this notebook as a `.ipynb` file and check into a Github Project.  You can [see an example here](https://github.com/noahgift/duke-coursera-ccf-lab1/blob/main/Practice-Markdown.ipynb).\n",
        "* Open your notebook in Google Colab and save it into the same Github Project.  You can [see an example here](https://github.com/noahgift/duke-coursera-ccf-lab1/blob/main/Practice_Markdown_with_colab.ipynb).\n"
      ]
    },
    {
      "cell_type": "markdown",
      "metadata": {
        "id": "iSis3B-iy1Ad"
      },
      "source": [
        "# Why do British people pronounce the word “Bri’ish” like they do?\n",
        "\n",
        "Because they drank all the T."
      ]
    },
    {
      "cell_type": "code",
      "metadata": {
        "scrolled": true,
        "colab": {
          "base_uri": "https://localhost:8080/"
        },
        "id": "8iDRiNtSy1Ae",
        "outputId": "a541470e-75e9-4cbd-db57-cdd7c28e5df9"
      },
      "source": [
        "print(\"Hello, world!\")"
      ],
      "execution_count": 2,
      "outputs": [
        {
          "output_type": "stream",
          "text": [
            "Hello, world!\n"
          ],
          "name": "stdout"
        }
      ]
    },
    {
      "cell_type": "markdown",
      "metadata": {
        "id": "ZsSVGuwYy1Af"
      },
      "source": [
        "```javascript\n",
        "    (number) -> {\n",
        "        let output = ''\n",
        "        if(number % 3 === 0){\n",
        "            output += 'Fizz'\n",
        "        }\n",
        "        \n",
        "        if(number % 5 === 0) {\n",
        "            output += 'Buzz'\n",
        "        }\n",
        "        \n",
        "        if(!output){\n",
        "            output = number.toString()\n",
        "        }\n",
        "        \n",
        "        return output;\n",
        "     }\n",
        "```"
      ]
    },
    {
      "cell_type": "code",
      "metadata": {
        "id": "bQHbSrmVy1Af"
      },
      "source": [
        ""
      ],
      "execution_count": null,
      "outputs": []
    }
  ]
}